{
  "nbformat": 4,
  "nbformat_minor": 0,
  "metadata": {
    "colab": {
      "name": "cnn_cifar_first",
      "provenance": [],
      "authorship_tag": "ABX9TyPmUr8lXvFfdvKtSCNw4ufJ",
      "include_colab_link": true
    },
    "kernelspec": {
      "name": "python3",
      "display_name": "Python 3"
    },
    "language_info": {
      "name": "python"
    },
    "widgets": {
      "application/vnd.jupyter.widget-state+json": {
        "8a72d929698945c18b8da35b3e584c0a": {
          "model_module": "@jupyter-widgets/controls",
          "model_name": "HBoxModel",
          "state": {
            "_view_name": "HBoxView",
            "_dom_classes": [],
            "_model_name": "HBoxModel",
            "_view_module": "@jupyter-widgets/controls",
            "_model_module_version": "1.5.0",
            "_view_count": null,
            "_view_module_version": "1.5.0",
            "box_style": "",
            "layout": "IPY_MODEL_4ffd583f7f494df5b529c852706451f3",
            "_model_module": "@jupyter-widgets/controls",
            "children": [
              "IPY_MODEL_7bbbabe1577f4a1f8428fa0ccc4015ae",
              "IPY_MODEL_d5082d0c51c64f399ed6b1c7ecc4cec4"
            ]
          }
        },
        "4ffd583f7f494df5b529c852706451f3": {
          "model_module": "@jupyter-widgets/base",
          "model_name": "LayoutModel",
          "state": {
            "_view_name": "LayoutView",
            "grid_template_rows": null,
            "right": null,
            "justify_content": null,
            "_view_module": "@jupyter-widgets/base",
            "overflow": null,
            "_model_module_version": "1.2.0",
            "_view_count": null,
            "flex_flow": null,
            "width": null,
            "min_width": null,
            "border": null,
            "align_items": null,
            "bottom": null,
            "_model_module": "@jupyter-widgets/base",
            "top": null,
            "grid_column": null,
            "overflow_y": null,
            "overflow_x": null,
            "grid_auto_flow": null,
            "grid_area": null,
            "grid_template_columns": null,
            "flex": null,
            "_model_name": "LayoutModel",
            "justify_items": null,
            "grid_row": null,
            "max_height": null,
            "align_content": null,
            "visibility": null,
            "align_self": null,
            "height": null,
            "min_height": null,
            "padding": null,
            "grid_auto_rows": null,
            "grid_gap": null,
            "max_width": null,
            "order": null,
            "_view_module_version": "1.2.0",
            "grid_template_areas": null,
            "object_position": null,
            "object_fit": null,
            "grid_auto_columns": null,
            "margin": null,
            "display": null,
            "left": null
          }
        },
        "7bbbabe1577f4a1f8428fa0ccc4015ae": {
          "model_module": "@jupyter-widgets/controls",
          "model_name": "FloatProgressModel",
          "state": {
            "_view_name": "ProgressView",
            "style": "IPY_MODEL_7799380367844e05b4c7a8182bcc5d52",
            "_dom_classes": [],
            "description": "",
            "_model_name": "FloatProgressModel",
            "bar_style": "success",
            "max": 170498071,
            "_view_module": "@jupyter-widgets/controls",
            "_model_module_version": "1.5.0",
            "value": 170498071,
            "_view_count": null,
            "_view_module_version": "1.5.0",
            "orientation": "horizontal",
            "min": 0,
            "description_tooltip": null,
            "_model_module": "@jupyter-widgets/controls",
            "layout": "IPY_MODEL_f8f7c5ffbd8042328b3f186a0f2f4149"
          }
        },
        "d5082d0c51c64f399ed6b1c7ecc4cec4": {
          "model_module": "@jupyter-widgets/controls",
          "model_name": "HTMLModel",
          "state": {
            "_view_name": "HTMLView",
            "style": "IPY_MODEL_9929f297a65d4e0a9e94da8f8f370c5d",
            "_dom_classes": [],
            "description": "",
            "_model_name": "HTMLModel",
            "placeholder": "​",
            "_view_module": "@jupyter-widgets/controls",
            "_model_module_version": "1.5.0",
            "value": " 170499072/? [12:58&lt;00:00, 218976.22it/s]",
            "_view_count": null,
            "_view_module_version": "1.5.0",
            "description_tooltip": null,
            "_model_module": "@jupyter-widgets/controls",
            "layout": "IPY_MODEL_22ce644b1b6a4711ab0ec8bd59eb6572"
          }
        },
        "7799380367844e05b4c7a8182bcc5d52": {
          "model_module": "@jupyter-widgets/controls",
          "model_name": "ProgressStyleModel",
          "state": {
            "_view_name": "StyleView",
            "_model_name": "ProgressStyleModel",
            "description_width": "initial",
            "_view_module": "@jupyter-widgets/base",
            "_model_module_version": "1.5.0",
            "_view_count": null,
            "_view_module_version": "1.2.0",
            "bar_color": null,
            "_model_module": "@jupyter-widgets/controls"
          }
        },
        "f8f7c5ffbd8042328b3f186a0f2f4149": {
          "model_module": "@jupyter-widgets/base",
          "model_name": "LayoutModel",
          "state": {
            "_view_name": "LayoutView",
            "grid_template_rows": null,
            "right": null,
            "justify_content": null,
            "_view_module": "@jupyter-widgets/base",
            "overflow": null,
            "_model_module_version": "1.2.0",
            "_view_count": null,
            "flex_flow": null,
            "width": null,
            "min_width": null,
            "border": null,
            "align_items": null,
            "bottom": null,
            "_model_module": "@jupyter-widgets/base",
            "top": null,
            "grid_column": null,
            "overflow_y": null,
            "overflow_x": null,
            "grid_auto_flow": null,
            "grid_area": null,
            "grid_template_columns": null,
            "flex": null,
            "_model_name": "LayoutModel",
            "justify_items": null,
            "grid_row": null,
            "max_height": null,
            "align_content": null,
            "visibility": null,
            "align_self": null,
            "height": null,
            "min_height": null,
            "padding": null,
            "grid_auto_rows": null,
            "grid_gap": null,
            "max_width": null,
            "order": null,
            "_view_module_version": "1.2.0",
            "grid_template_areas": null,
            "object_position": null,
            "object_fit": null,
            "grid_auto_columns": null,
            "margin": null,
            "display": null,
            "left": null
          }
        },
        "9929f297a65d4e0a9e94da8f8f370c5d": {
          "model_module": "@jupyter-widgets/controls",
          "model_name": "DescriptionStyleModel",
          "state": {
            "_view_name": "StyleView",
            "_model_name": "DescriptionStyleModel",
            "description_width": "",
            "_view_module": "@jupyter-widgets/base",
            "_model_module_version": "1.5.0",
            "_view_count": null,
            "_view_module_version": "1.2.0",
            "_model_module": "@jupyter-widgets/controls"
          }
        },
        "22ce644b1b6a4711ab0ec8bd59eb6572": {
          "model_module": "@jupyter-widgets/base",
          "model_name": "LayoutModel",
          "state": {
            "_view_name": "LayoutView",
            "grid_template_rows": null,
            "right": null,
            "justify_content": null,
            "_view_module": "@jupyter-widgets/base",
            "overflow": null,
            "_model_module_version": "1.2.0",
            "_view_count": null,
            "flex_flow": null,
            "width": null,
            "min_width": null,
            "border": null,
            "align_items": null,
            "bottom": null,
            "_model_module": "@jupyter-widgets/base",
            "top": null,
            "grid_column": null,
            "overflow_y": null,
            "overflow_x": null,
            "grid_auto_flow": null,
            "grid_area": null,
            "grid_template_columns": null,
            "flex": null,
            "_model_name": "LayoutModel",
            "justify_items": null,
            "grid_row": null,
            "max_height": null,
            "align_content": null,
            "visibility": null,
            "align_self": null,
            "height": null,
            "min_height": null,
            "padding": null,
            "grid_auto_rows": null,
            "grid_gap": null,
            "max_width": null,
            "order": null,
            "_view_module_version": "1.2.0",
            "grid_template_areas": null,
            "object_position": null,
            "object_fit": null,
            "grid_auto_columns": null,
            "margin": null,
            "display": null,
            "left": null
          }
        }
      }
    }
  },
  "cells": [
    {
      "cell_type": "markdown",
      "metadata": {
        "id": "view-in-github",
        "colab_type": "text"
      },
      "source": [
        "<a href=\"https://colab.research.google.com/github/alexhein189/code_snippets/blob/master/cnn_cifar_first.ipynb\" target=\"_parent\"><img src=\"https://colab.research.google.com/assets/colab-badge.svg\" alt=\"Open In Colab\"/></a>"
      ]
    },
    {
      "cell_type": "code",
      "metadata": {
        "id": "lrlgSN1d8nqu"
      },
      "source": [
        "import torch.nn as nn\n",
        "import torch\n",
        "from torchvision import transforms, datasets\n",
        "import torch.optim as optim\n",
        "from torch.utils.data import DataLoader\n",
        "import matplotlib.pyplot as plt\n",
        "import time\n"
      ],
      "execution_count": null,
      "outputs": []
    },
    {
      "cell_type": "code",
      "metadata": {
        "colab": {
          "base_uri": "https://localhost:8080/",
          "height": 120,
          "referenced_widgets": [
            "8a72d929698945c18b8da35b3e584c0a",
            "4ffd583f7f494df5b529c852706451f3",
            "7bbbabe1577f4a1f8428fa0ccc4015ae",
            "d5082d0c51c64f399ed6b1c7ecc4cec4",
            "7799380367844e05b4c7a8182bcc5d52",
            "f8f7c5ffbd8042328b3f186a0f2f4149",
            "9929f297a65d4e0a9e94da8f8f370c5d",
            "22ce644b1b6a4711ab0ec8bd59eb6572"
          ]
        },
        "id": "At_wFkAoI1jO",
        "outputId": "3725cfa2-5bb0-449e-af78-03e251b27349"
      },
      "source": [
        "train_data = datasets.CIFAR10(root= \"/content/sample_data\", train=True, transform=transforms.ToTensor(),download=True)\n",
        "test_data = datasets.CIFAR10(root= \"/content/sample_data\", train=False, transform=transforms.ToTensor(),download=True)"
      ],
      "execution_count": null,
      "outputs": [
        {
          "output_type": "stream",
          "text": [
            "Downloading https://www.cs.toronto.edu/~kriz/cifar-10-python.tar.gz to /content/sample_data/cifar-10-python.tar.gz\n"
          ],
          "name": "stdout"
        },
        {
          "output_type": "display_data",
          "data": {
            "application/vnd.jupyter.widget-view+json": {
              "model_id": "8a72d929698945c18b8da35b3e584c0a",
              "version_minor": 0,
              "version_major": 2
            },
            "text/plain": [
              "HBox(children=(FloatProgress(value=0.0, max=170498071.0), HTML(value='')))"
            ]
          },
          "metadata": {
            "tags": []
          }
        },
        {
          "output_type": "stream",
          "text": [
            "\n",
            "Extracting /content/sample_data/cifar-10-python.tar.gz to /content/sample_data\n",
            "Files already downloaded and verified\n"
          ],
          "name": "stdout"
        }
      ]
    },
    {
      "cell_type": "code",
      "metadata": {
        "id": "FeNeZKoJJGC-"
      },
      "source": [
        "train_loader = DataLoader(dataset=train_data, batch_size=32, shuffle=True)\n",
        "test_loader = DataLoader(dataset=train_data, batch_size=32, shuffle=False)"
      ],
      "execution_count": null,
      "outputs": []
    },
    {
      "cell_type": "code",
      "metadata": {
        "colab": {
          "base_uri": "https://localhost:8080/"
        },
        "id": "klYfrIwvKe_1",
        "outputId": "60323cd6-e5ed-412a-c842-c7d5f6bc41e4"
      },
      "source": [
        "for img, label in train_loader:\n",
        "  print(img.size(), label)\n",
        "  break"
      ],
      "execution_count": null,
      "outputs": [
        {
          "output_type": "stream",
          "text": [
            "torch.Size([32, 3, 32, 32]) tensor([7, 2, 5, 3, 6, 5, 2, 9, 3, 4, 7, 9, 7, 6, 1, 4, 1, 6, 5, 1, 0, 1, 6, 7,\n",
            "        7, 7, 3, 8, 2, 8, 4, 2])\n"
          ],
          "name": "stdout"
        }
      ]
    },
    {
      "cell_type": "markdown",
      "metadata": {
        "id": "eis3Lt37KMzu"
      },
      "source": [
        "CNN class"
      ]
    },
    {
      "cell_type": "code",
      "metadata": {
        "id": "1TrtLRp_KLx8"
      },
      "source": [
        "class CNN(nn.Module):\n",
        "  def __init__(self):\n",
        "    super(CNN, self).__init__()\n",
        "\n",
        "    #initial image size = 32*32*3\n",
        "    self.conv1 = nn.Conv2d(in_channels=3, out_channels=16, kernel_size=3, stride=1)\n",
        "    #the size after conv1 is 30*30*16\n",
        "    self.pool = nn.MaxPool2d(2)\n",
        "    #the size after pooling is 15*15*16\n",
        "    self.conv2 = nn.Conv2d(in_channels=16, out_channels=32, kernel_size=3, stride=1)\n",
        "    #the size after conv2 is 13*13*32\n",
        "    #the size after pooling is 7*7*32\n",
        "\n",
        "    self.fc1 = nn.Linear(6*6*32, 256)\n",
        "    self.fc2 = nn.Linear(256, 64)\n",
        "    self.fc3 = nn.Linear(64, 32)\n",
        "    self.fc4 = nn.Linear(32, 10)\n",
        "\n",
        "    self.relu = nn.ReLU()\n",
        "\n",
        "\n",
        "  def forward(self,x):\n",
        "    x = self.conv1(x)\n",
        "    x = self.relu(x)\n",
        "    x = self.pool(x)\n",
        "\n",
        "    x = self.conv2(x)\n",
        "    x = self.relu(x)\n",
        "    x = self.pool(x)\n",
        "\n",
        "    out = x.view(-1, 6*6*32)\n",
        "\n",
        "    out = self.fc1(out)\n",
        "    out = self.relu(out)\n",
        "    out = self.fc2(out)\n",
        "    out = self.relu(out)\n",
        "    out = self.fc3(out)\n",
        "    out = self.relu(out)\n",
        "    out = self.fc4(out)\n",
        "\n",
        "    return out\n",
        "\n",
        "    "
      ],
      "execution_count": null,
      "outputs": []
    },
    {
      "cell_type": "code",
      "metadata": {
        "id": "_4AJXDxdMJac"
      },
      "source": [
        "model = CNN()\n",
        "loss_fn = nn.CrossEntropyLoss()\n",
        "optimiser = optim.SGD(params=model.parameters(), lr=0.001)"
      ],
      "execution_count": null,
      "outputs": []
    },
    {
      "cell_type": "code",
      "metadata": {
        "id": "zXOrg4UwMLAW"
      },
      "source": [
        "def train(model, loss_fn, optimiser, epochs=10):\n",
        "  training_loss = []\n",
        "  testing_loss = []\n",
        "\n",
        "  training_accuracy = []\n",
        "  testing_accuracy = []\n",
        "\n",
        "  for epoch in range(epochs):\n",
        "    start = time.time()\n",
        "    train_loss, train_accuracy = 0.0, 0.0\n",
        "    \n",
        "    model.train()\n",
        "    \n",
        "    for img, label in train_loader:\n",
        "      optimiser.zero_grad()\n",
        "      output = model(img)\n",
        "\n",
        "      loss = loss_fn(output, label)\n",
        "      loss.backward()\n",
        "\n",
        "      optimiser.step()\n",
        "\n",
        "      train_loss += loss.data.item()\n",
        "      training_loss.append(train_loss)\n",
        "\n",
        "      prediction = torch.argmax(output, 1)\n",
        "      train_accuracy += (prediction == label).sum().item()\n",
        "      training_accuracy.append(train_accuracy)\n",
        "\n",
        "    \n",
        "    test_loss, test_accuracy = 0.0, 0.0\n",
        "    model.eval()\n",
        "\n",
        "    with torch.no_grad():\n",
        "      for img, label in test_loader:\n",
        "        output = model(img)\n",
        "        loss = loss_fn(output, label)\n",
        "\n",
        "        test_loss += loss.data.item()\n",
        "        testing_loss.append(test_loss)\n",
        "\n",
        "        prediction = torch.argmax(output, 1)\n",
        "        test_accuracy += (prediction == label).sum().item()\n",
        "        testing_accuracy.append(test_accuracy)\n",
        "    \n",
        "    end = time.time()\n",
        "    print('Epoch: {}/{} Train Loss: {:.2f} Train Accuracy: {:.2f} Test Accuracy: {:.2f} Test Loss: {:.2f} - {:.2f}secs'.format(\n",
        "            epoch+1, epochs, train_loss, train_accuracy, test_accuracy, test_loss, end-start)) \n",
        "    \n",
        "  \n",
        "  plt.plot(range(training_accuracy), training_accuracy, label=\"train accuracy\")\n",
        "  plt.plot(range(testing_accuracy), testing_accuracy, label=\"test accuracy\")\n",
        "  plt.show()\n",
        "\n",
        "  plt.plot(range(training_loss), training_loss, label=\"train loss\")\n",
        "  plt.plot(range(testing_loss), testing_loss, label=\"test loss\")\n",
        "  plt.show()\n",
        "  "
      ],
      "execution_count": null,
      "outputs": []
    },
    {
      "cell_type": "code",
      "metadata": {
        "colab": {
          "base_uri": "https://localhost:8080/",
          "height": 471
        },
        "id": "M4QHSvkiO4j1",
        "outputId": "1720995e-7239-4f37-cb0a-6a9a72f04ec4"
      },
      "source": [
        "train(model,loss_fn, optimiser)"
      ],
      "execution_count": null,
      "outputs": [
        {
          "output_type": "stream",
          "text": [
            "Epoch: 1/10 Train Loss: 3557.05 Train Accuracy: 7589.00 Test Accuracy: 7552.00 Test Loss: 3546.12 - 47.65secs\n",
            "Epoch: 2/10 Train Loss: 3529.62 Train Accuracy: 7585.00 Test Accuracy: 7729.00 Test Loss: 3508.78 - 47.77secs\n",
            "Epoch: 3/10 Train Loss: 3477.52 Train Accuracy: 7825.00 Test Accuracy: 8225.00 Test Loss: 3439.73 - 48.45secs\n",
            "Epoch: 4/10 Train Loss: 3393.20 Train Accuracy: 8722.00 Test Accuracy: 9442.00 Test Loss: 3344.65 - 47.77secs\n",
            "Epoch: 5/10 Train Loss: 3303.70 Train Accuracy: 9715.00 Test Accuracy: 10215.00 Test Loss: 3268.93 - 47.83secs\n",
            "Epoch: 6/10 Train Loss: 3243.85 Train Accuracy: 10630.00 Test Accuracy: 11150.00 Test Loss: 3225.39 - 48.00secs\n",
            "Epoch: 7/10 Train Loss: 3208.67 Train Accuracy: 11395.00 Test Accuracy: 11242.00 Test Loss: 3190.87 - 47.56secs\n",
            "Epoch: 8/10 Train Loss: 3181.07 Train Accuracy: 11635.00 Test Accuracy: 11794.00 Test Loss: 3182.15 - 47.42secs\n",
            "Epoch: 9/10 Train Loss: 3154.42 Train Accuracy: 11947.00 Test Accuracy: 12111.00 Test Loss: 3139.82 - 47.79secs\n",
            "Epoch: 10/10 Train Loss: 3128.80 Train Accuracy: 12315.00 Test Accuracy: 12389.00 Test Loss: 3111.70 - 48.35secs\n"
          ],
          "name": "stdout"
        },
        {
          "output_type": "error",
          "ename": "TypeError",
          "evalue": "ignored",
          "traceback": [
            "\u001b[0;31m---------------------------------------------------------------------------\u001b[0m",
            "\u001b[0;31mTypeError\u001b[0m                                 Traceback (most recent call last)",
            "\u001b[0;32m<ipython-input-36-6126e98788ee>\u001b[0m in \u001b[0;36m<module>\u001b[0;34m()\u001b[0m\n\u001b[0;32m----> 1\u001b[0;31m \u001b[0mtrain\u001b[0m\u001b[0;34m(\u001b[0m\u001b[0mmodel\u001b[0m\u001b[0;34m,\u001b[0m\u001b[0mloss_fn\u001b[0m\u001b[0;34m,\u001b[0m \u001b[0moptimiser\u001b[0m\u001b[0;34m)\u001b[0m\u001b[0;34m\u001b[0m\u001b[0;34m\u001b[0m\u001b[0m\n\u001b[0m",
            "\u001b[0;32m<ipython-input-35-139d4257c24e>\u001b[0m in \u001b[0;36mtrain\u001b[0;34m(model, loss_fn, optimiser, epochs)\u001b[0m\n\u001b[1;32m     49\u001b[0m \u001b[0;34m\u001b[0m\u001b[0m\n\u001b[1;32m     50\u001b[0m \u001b[0;34m\u001b[0m\u001b[0m\n\u001b[0;32m---> 51\u001b[0;31m   \u001b[0mplt\u001b[0m\u001b[0;34m.\u001b[0m\u001b[0mplot\u001b[0m\u001b[0;34m(\u001b[0m\u001b[0mrange\u001b[0m\u001b[0;34m(\u001b[0m\u001b[0mtraining_accuracy\u001b[0m\u001b[0;34m)\u001b[0m\u001b[0;34m,\u001b[0m \u001b[0mtraining_accuracy\u001b[0m\u001b[0;34m,\u001b[0m \u001b[0mlabel\u001b[0m\u001b[0;34m=\u001b[0m\u001b[0;34m\"train accuracy\"\u001b[0m\u001b[0;34m)\u001b[0m\u001b[0;34m\u001b[0m\u001b[0;34m\u001b[0m\u001b[0m\n\u001b[0m\u001b[1;32m     52\u001b[0m   \u001b[0mplt\u001b[0m\u001b[0;34m.\u001b[0m\u001b[0mplot\u001b[0m\u001b[0;34m(\u001b[0m\u001b[0mrange\u001b[0m\u001b[0;34m(\u001b[0m\u001b[0mtesting_accuracy\u001b[0m\u001b[0;34m)\u001b[0m\u001b[0;34m,\u001b[0m \u001b[0mtesting_accuracy\u001b[0m\u001b[0;34m,\u001b[0m \u001b[0mlabel\u001b[0m\u001b[0;34m=\u001b[0m\u001b[0;34m\"test accuracy\"\u001b[0m\u001b[0;34m)\u001b[0m\u001b[0;34m\u001b[0m\u001b[0;34m\u001b[0m\u001b[0m\n\u001b[1;32m     53\u001b[0m   \u001b[0mplt\u001b[0m\u001b[0;34m.\u001b[0m\u001b[0mshow\u001b[0m\u001b[0;34m(\u001b[0m\u001b[0;34m)\u001b[0m\u001b[0;34m\u001b[0m\u001b[0;34m\u001b[0m\u001b[0m\n",
            "\u001b[0;31mTypeError\u001b[0m: 'list' object cannot be interpreted as an integer"
          ]
        }
      ]
    },
    {
      "cell_type": "code",
      "metadata": {
        "id": "uWsBAsfpO-as"
      },
      "source": [
        ""
      ],
      "execution_count": null,
      "outputs": []
    }
  ]
}